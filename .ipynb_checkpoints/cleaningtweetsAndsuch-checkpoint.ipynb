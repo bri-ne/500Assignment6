{
 "cells": [
  {
   "cell_type": "markdown",
   "id": "bc732ae4",
   "metadata": {},
   "source": [
    "# Cleaning!"
   ]
  },
  {
   "cell_type": "markdown",
   "id": "cf4e655b",
   "metadata": {},
   "source": [
    "## GOALS\n",
    "\n",
    "1. Identify a search term or hashtag having to do with an urban (or related) issue, problem, or application (e.g., #muralarts, #patco, #wisconsinrecount, etc.)\n",
    "2. Adapt the code provided for the class examples to do the following:\n",
    "<ul>\n",
    "    <li>a. Extract the most recent (at most) 10,000 tweets that contain that search term/hashtag</li>\n",
    "    <li>b. Clean the tweets (i.e., remove stop words, numbers, suffixes, etc.)</li>\n",
    "    <li>c. Create a word cloud of the terms in the tweets</li>\n",
    "    <li>d. Map the tweets</li>\n",
    "<ul>"
   ]
  },
  {
   "cell_type": "code",
   "execution_count": 2,
   "id": "1d4de7ff",
   "metadata": {},
   "outputs": [],
   "source": [
    "import geopandas as gpd\n",
    "import pandas as pd\n",
    "import numpy as np\n",
    "from shapely.geometry import Point\n",
    "\n",
    "import time\n",
    "import requests\n",
    "from datetime import datetime\n",
    "import calendar\n",
    "\n",
    "from matplotlib import pyplot as plt\n",
    "import seaborn as sns\n",
    "\n",
    "import hvplot.pandas\n",
    "import holoviews as hv"
   ]
  },
  {
   "cell_type": "code",
   "execution_count": 16,
   "id": "8961a86a",
   "metadata": {},
   "outputs": [],
   "source": [
    "tweets = pd.read_csv(r'.\\data\\geo_results.csv')\n",
    "geos = pd.read_csv(r'.\\data\\tweet_places2.csv')"
   ]
  },
  {
   "cell_type": "code",
   "execution_count": 6,
   "id": "32a80c41",
   "metadata": {},
   "outputs": [
    {
     "data": {
      "text/html": [
       "<div>\n",
       "<style scoped>\n",
       "    .dataframe tbody tr th:only-of-type {\n",
       "        vertical-align: middle;\n",
       "    }\n",
       "\n",
       "    .dataframe tbody tr th {\n",
       "        vertical-align: top;\n",
       "    }\n",
       "\n",
       "    .dataframe thead th {\n",
       "        text-align: right;\n",
       "    }\n",
       "</style>\n",
       "<table border=\"1\" class=\"dataframe\">\n",
       "  <thead>\n",
       "    <tr style=\"text-align: right;\">\n",
       "      <th></th>\n",
       "      <th>tweet_places</th>\n",
       "      <th>full_name</th>\n",
       "    </tr>\n",
       "  </thead>\n",
       "  <tbody>\n",
       "    <tr>\n",
       "      <th>0</th>\n",
       "      <td>NaN</td>\n",
       "      <td>NaN</td>\n",
       "    </tr>\n",
       "    <tr>\n",
       "      <th>1</th>\n",
       "      <td>Austin, TX</td>\n",
       "      <td>Austin, TX</td>\n",
       "    </tr>\n",
       "    <tr>\n",
       "      <th>2</th>\n",
       "      <td>Brooklyn, NY</td>\n",
       "      <td>Brooklyn, NY</td>\n",
       "    </tr>\n",
       "    <tr>\n",
       "      <th>3</th>\n",
       "      <td>NaN</td>\n",
       "      <td>NaN</td>\n",
       "    </tr>\n",
       "    <tr>\n",
       "      <th>4</th>\n",
       "      <td>NaN</td>\n",
       "      <td>NaN</td>\n",
       "    </tr>\n",
       "  </tbody>\n",
       "</table>\n",
       "</div>"
      ],
      "text/plain": [
       "   tweet_places     full_name\n",
       "0           NaN           NaN\n",
       "1    Austin, TX    Austin, TX\n",
       "2  Brooklyn, NY  Brooklyn, NY\n",
       "3           NaN           NaN\n",
       "4           NaN           NaN"
      ]
     },
     "execution_count": 6,
     "metadata": {},
     "output_type": "execute_result"
    }
   ],
   "source": [
    "geos.head()"
   ]
  },
  {
   "cell_type": "code",
   "execution_count": 7,
   "id": "9897cdcc",
   "metadata": {},
   "outputs": [
    {
     "data": {
      "text/html": [
       "<div>\n",
       "<style scoped>\n",
       "    .dataframe tbody tr th:only-of-type {\n",
       "        vertical-align: middle;\n",
       "    }\n",
       "\n",
       "    .dataframe tbody tr th {\n",
       "        vertical-align: top;\n",
       "    }\n",
       "\n",
       "    .dataframe thead th {\n",
       "        text-align: right;\n",
       "    }\n",
       "</style>\n",
       "<table border=\"1\" class=\"dataframe\">\n",
       "  <thead>\n",
       "    <tr style=\"text-align: right;\">\n",
       "      <th></th>\n",
       "      <th>created_at</th>\n",
       "      <th>geo</th>\n",
       "      <th>id</th>\n",
       "      <th>text</th>\n",
       "      <th>withheld</th>\n",
       "    </tr>\n",
       "  </thead>\n",
       "  <tbody>\n",
       "    <tr>\n",
       "      <th>0</th>\n",
       "      <td>2021-12-13 04:05:36+00:00</td>\n",
       "      <td>NaN</td>\n",
       "      <td>1470243481507360768</td>\n",
       "      <td>RT @PBBabscbn: You have the power to vote for ...</td>\n",
       "      <td>NaN</td>\n",
       "    </tr>\n",
       "    <tr>\n",
       "      <th>1</th>\n",
       "      <td>2021-12-13 04:05:29+00:00</td>\n",
       "      <td>NaN</td>\n",
       "      <td>1470243453217001474</td>\n",
       "      <td>RT @thetirekinge: @lekurokami Omg! Poor baby. ...</td>\n",
       "      <td>NaN</td>\n",
       "    </tr>\n",
       "    <tr>\n",
       "      <th>2</th>\n",
       "      <td>2021-12-13 04:05:11+00:00</td>\n",
       "      <td>NaN</td>\n",
       "      <td>1470243378566557698</td>\n",
       "      <td>RT @iamjavid111: Best Female Contestant In BB ...</td>\n",
       "      <td>NaN</td>\n",
       "    </tr>\n",
       "    <tr>\n",
       "      <th>3</th>\n",
       "      <td>2021-12-13 04:04:35+00:00</td>\n",
       "      <td>NaN</td>\n",
       "      <td>1470243224685932547</td>\n",
       "      <td>RT @Article14live: #Hindu extremists attacked ...</td>\n",
       "      <td>NaN</td>\n",
       "    </tr>\n",
       "    <tr>\n",
       "      <th>4</th>\n",
       "      <td>2021-12-13 04:04:17+00:00</td>\n",
       "      <td>NaN</td>\n",
       "      <td>1470243150253879297</td>\n",
       "      <td>RT @real_khabri_1: It is really sad to see mak...</td>\n",
       "      <td>NaN</td>\n",
       "    </tr>\n",
       "  </tbody>\n",
       "</table>\n",
       "</div>"
      ],
      "text/plain": [
       "                  created_at  geo                   id  \\\n",
       "0  2021-12-13 04:05:36+00:00  NaN  1470243481507360768   \n",
       "1  2021-12-13 04:05:29+00:00  NaN  1470243453217001474   \n",
       "2  2021-12-13 04:05:11+00:00  NaN  1470243378566557698   \n",
       "3  2021-12-13 04:04:35+00:00  NaN  1470243224685932547   \n",
       "4  2021-12-13 04:04:17+00:00  NaN  1470243150253879297   \n",
       "\n",
       "                                                text withheld  \n",
       "0  RT @PBBabscbn: You have the power to vote for ...      NaN  \n",
       "1  RT @thetirekinge: @lekurokami Omg! Poor baby. ...      NaN  \n",
       "2  RT @iamjavid111: Best Female Contestant In BB ...      NaN  \n",
       "3  RT @Article14live: #Hindu extremists attacked ...      NaN  \n",
       "4  RT @real_khabri_1: It is really sad to see mak...      NaN  "
      ]
     },
     "execution_count": 7,
     "metadata": {},
     "output_type": "execute_result"
    }
   ],
   "source": [
    "tweets.head()"
   ]
  },
  {
   "cell_type": "markdown",
   "id": "b4ce6eba",
   "metadata": {},
   "source": [
    "### Get rid of URLS"
   ]
  },
  {
   "cell_type": "code",
   "execution_count": 10,
   "id": "c794e430",
   "metadata": {},
   "outputs": [
    {
     "name": "stdout",
     "output_type": "stream",
     "text": [
      "RT @thetirekinge: @lekurokami Omg! Poor baby. Imagine having the best sleep of your life only to be evicted by the landlord cause you outgr…\n"
     ]
    }
   ],
   "source": [
    "print(tweets[\"text\"][1])"
   ]
  },
  {
   "cell_type": "code",
   "execution_count": 17,
   "id": "6277843b",
   "metadata": {},
   "outputs": [],
   "source": [
    "def remove_url(txt):\n",
    "    \"\"\"\n",
    "    Replace URLs found in a text string with nothing \n",
    "    (i.e. it will remove the URL from the string).\n",
    "\n",
    "    Parameters\n",
    "    ----------\n",
    "    txt : string\n",
    "        A text string that you want to parse and remove urls.\n",
    "\n",
    "    Returns\n",
    "    -------\n",
    "    The same txt string with url's removed.\n",
    "    \"\"\"\n",
    "    import re\n",
    "    return \" \".join(re.sub(\"https://t.co/[A-Za-z\\\\d]+|&amp\", \"\", txt).split())"
   ]
  },
  {
   "cell_type": "code",
   "execution_count": 18,
   "id": "53fb703e",
   "metadata": {},
   "outputs": [
    {
     "data": {
      "text/plain": [
       "['RT @PBBabscbn: You have the power to vote for Alexa! To VOTE VIA KUMU: Go to Kumu campaigns and choose Vote to Save or Vote to Evict a Hou…',\n",
       " 'RT @thetirekinge: @lekurokami Omg! Poor baby. Imagine having the best sleep of your life only to be evicted by the landlord cause you outgr…',\n",
       " 'RT @iamjavid111: Best Female Contestant In BB House RJ KAJAL Evicted👏👏Hugs and Stuffs Footage Candidates in FINALIST #BiggBoss5telugu',\n",
       " 'RT @Article14live: #Hindu extremists attacked his prayer service, but #Karnataka pastor Somu Avaradhi was jailed for 10 days. Landlord evic…',\n",
       " 'RT @real_khabri_1: It is really sad to see makers bringing #UmarRiaz profession time ; again. At least he is doing something in the house.…']"
      ]
     },
     "execution_count": 18,
     "metadata": {},
     "output_type": "execute_result"
    }
   ],
   "source": [
    "tweets_no_urls = [remove_url(tweet) for tweet in tweets[\"text\"]]\n",
    "tweets_no_urls[:5]"
   ]
  },
  {
   "cell_type": "markdown",
   "id": "727d19e0",
   "metadata": {},
   "source": [
    "### Extract a list of lower-cased words in a tweet\n",
    "\n",
    "- `.lower()` makes all words lower cased\n",
    "- `.split()` splits a string into the individual words"
   ]
  },
  {
   "cell_type": "code",
   "execution_count": 19,
   "id": "924e6eff",
   "metadata": {
    "scrolled": true
   },
   "outputs": [
    {
     "data": {
      "text/plain": [
       "[['rt',\n",
       "  '@pbbabscbn:',\n",
       "  'you',\n",
       "  'have',\n",
       "  'the',\n",
       "  'power',\n",
       "  'to',\n",
       "  'vote',\n",
       "  'for',\n",
       "  'alexa!',\n",
       "  'to',\n",
       "  'vote',\n",
       "  'via',\n",
       "  'kumu:',\n",
       "  'go',\n",
       "  'to',\n",
       "  'kumu',\n",
       "  'campaigns',\n",
       "  'and',\n",
       "  'choose',\n",
       "  'vote',\n",
       "  'to',\n",
       "  'save',\n",
       "  'or',\n",
       "  'vote',\n",
       "  'to',\n",
       "  'evict',\n",
       "  'a',\n",
       "  'hou…']]"
      ]
     },
     "execution_count": 19,
     "metadata": {},
     "output_type": "execute_result"
    }
   ],
   "source": [
    "words_in_tweet = [tweet.lower().split() for tweet in tweets_no_urls]\n",
    "words_in_tweet[:1]"
   ]
  },
  {
   "cell_type": "markdown",
   "id": "7c55e58a",
   "metadata": {},
   "source": [
    "### Remove stop words and punctuation\n",
    "\n",
    "Common words that do not carry much significance and are often ignored in text analysis."
   ]
  },
  {
   "cell_type": "code",
   "execution_count": 7,
   "id": "04dca90b",
   "metadata": {},
   "outputs": [
    {
     "name": "stderr",
     "output_type": "stream",
     "text": [
      "[nltk_data] Downloading package stopwords to\n",
      "[nltk_data]     C:\\Users\\brine\\AppData\\Roaming\\nltk_data...\n",
      "[nltk_data]   Package stopwords is already up-to-date!\n"
     ]
    }
   ],
   "source": [
    "# import stop words\n",
    "\n",
    "import nltk\n",
    "nltk.download('stopwords');"
   ]
  },
  {
   "cell_type": "code",
   "execution_count": 20,
   "id": "6e269a66",
   "metadata": {},
   "outputs": [
    {
     "data": {
      "text/plain": [
       "['whom',\n",
       " 've',\n",
       " 'their',\n",
       " 'shouldn',\n",
       " 'themselves',\n",
       " 'has',\n",
       " \"you've\",\n",
       " 'before',\n",
       " 'for',\n",
       " 'his',\n",
       " 'have',\n",
       " 'on',\n",
       " 'her',\n",
       " 'just',\n",
       " \"aren't\",\n",
       " 'all',\n",
       " 'is',\n",
       " 'now',\n",
       " 'under',\n",
       " 'does',\n",
       " 't',\n",
       " 'more',\n",
       " 'mightn',\n",
       " 'don',\n",
       " 'these',\n",
       " 'couldn',\n",
       " 'they',\n",
       " 'be',\n",
       " 'once',\n",
       " 'same',\n",
       " 'herself',\n",
       " 'as',\n",
       " 'nor',\n",
       " 'won',\n",
       " 'he',\n",
       " 'what',\n",
       " 'too',\n",
       " 'being',\n",
       " 'it',\n",
       " 'when',\n",
       " 'after',\n",
       " 'needn',\n",
       " 'down',\n",
       " 'do',\n",
       " 'some',\n",
       " 'into',\n",
       " 'ain',\n",
       " 'both',\n",
       " 'by',\n",
       " \"you're\",\n",
       " 'from',\n",
       " 'will',\n",
       " 'my',\n",
       " 'aren',\n",
       " \"weren't\",\n",
       " 'i',\n",
       " 'those',\n",
       " 'in',\n",
       " 'should',\n",
       " \"isn't\",\n",
       " 'but',\n",
       " 'll',\n",
       " 'here',\n",
       " \"wouldn't\",\n",
       " 'your',\n",
       " 'over',\n",
       " 'very',\n",
       " \"needn't\",\n",
       " \"hadn't\",\n",
       " 'having',\n",
       " 'out',\n",
       " 'you',\n",
       " \"won't\",\n",
       " \"wasn't\",\n",
       " 'she',\n",
       " 'our',\n",
       " 'other',\n",
       " 'off',\n",
       " 'no',\n",
       " 'and',\n",
       " 'd',\n",
       " 'hadn',\n",
       " 'with',\n",
       " 'so',\n",
       " 'didn',\n",
       " 'am',\n",
       " \"you'll\",\n",
       " 'below',\n",
       " 'to',\n",
       " 'yours',\n",
       " 'had',\n",
       " 'through',\n",
       " 'further',\n",
       " 'if',\n",
       " 'again',\n",
       " 'who',\n",
       " 'm',\n",
       " 're',\n",
       " 'itself',\n",
       " 'against',\n",
       " \"it's\",\n",
       " \"mightn't\",\n",
       " 'hasn',\n",
       " 'ours',\n",
       " 'of',\n",
       " \"shan't\",\n",
       " 'yourself',\n",
       " 'its',\n",
       " 'ourselves',\n",
       " 'own',\n",
       " 'hers',\n",
       " 'during',\n",
       " 'until',\n",
       " \"don't\",\n",
       " 'me',\n",
       " 'than',\n",
       " 'ma',\n",
       " \"hasn't\",\n",
       " 'how',\n",
       " 'yourselves',\n",
       " 'theirs',\n",
       " 'this',\n",
       " \"she's\",\n",
       " 'about',\n",
       " 'doesn',\n",
       " \"mustn't\",\n",
       " 'then',\n",
       " 'few',\n",
       " 'why',\n",
       " 'not',\n",
       " 'the',\n",
       " 'an',\n",
       " 'mustn',\n",
       " \"that'll\",\n",
       " 'can',\n",
       " 'did',\n",
       " 'shan',\n",
       " 'o',\n",
       " \"didn't\",\n",
       " 'up',\n",
       " 'each',\n",
       " 'or',\n",
       " 'while',\n",
       " \"shouldn't\",\n",
       " 'such',\n",
       " \"doesn't\",\n",
       " 'them',\n",
       " 'there',\n",
       " 'because',\n",
       " 'are',\n",
       " 'isn',\n",
       " \"you'd\",\n",
       " 'which',\n",
       " 'himself',\n",
       " 'between',\n",
       " \"haven't\",\n",
       " 's',\n",
       " 'that',\n",
       " 'him',\n",
       " 'wouldn',\n",
       " \"should've\",\n",
       " \"couldn't\",\n",
       " 'any',\n",
       " 'only',\n",
       " 'where',\n",
       " 'a',\n",
       " 'most',\n",
       " 'weren',\n",
       " 'y']"
      ]
     },
     "execution_count": 20,
     "metadata": {},
     "output_type": "execute_result"
    }
   ],
   "source": [
    "stop_words = list(set(nltk.corpus.stopwords.words('english')))\n",
    "stop_words[:-10]"
   ]
  },
  {
   "cell_type": "code",
   "execution_count": 21,
   "id": "7eaf8893",
   "metadata": {},
   "outputs": [
    {
     "data": {
      "text/plain": [
       "['rt']"
      ]
     },
     "execution_count": 21,
     "metadata": {},
     "output_type": "execute_result"
    }
   ],
   "source": [
    "## gotta get rid of \"rt\" too.\n",
    "rt = [\"rt\"]\n",
    "rt"
   ]
  },
  {
   "cell_type": "markdown",
   "id": "400d18a6",
   "metadata": {},
   "source": [
    "### Get the list of common punctuation"
   ]
  },
  {
   "cell_type": "code",
   "execution_count": 22,
   "id": "c9caed69",
   "metadata": {},
   "outputs": [],
   "source": [
    "import string"
   ]
  },
  {
   "cell_type": "code",
   "execution_count": 23,
   "id": "8e4568fe",
   "metadata": {},
   "outputs": [
    {
     "data": {
      "text/plain": [
       "['!', '\"', '#', '$', '%']"
      ]
     },
     "execution_count": 23,
     "metadata": {},
     "output_type": "execute_result"
    }
   ],
   "source": [
    "punctuation = list(string.punctuation)\n",
    "punctuation[:5]"
   ]
  },
  {
   "cell_type": "markdown",
   "id": "a6167838",
   "metadata": {},
   "source": [
    "## Remove stop words from our tweets"
   ]
  },
  {
   "cell_type": "code",
   "execution_count": 24,
   "id": "bbff0e4b",
   "metadata": {},
   "outputs": [],
   "source": [
    "ignored = stop_words + punctuation + rt"
   ]
  },
  {
   "cell_type": "code",
   "execution_count": 25,
   "id": "fe904674",
   "metadata": {},
   "outputs": [
    {
     "data": {
      "text/plain": [
       "['@pbbabscbn:',\n",
       " 'power',\n",
       " 'vote',\n",
       " 'alexa!',\n",
       " 'vote',\n",
       " 'via',\n",
       " 'kumu:',\n",
       " 'go',\n",
       " 'kumu',\n",
       " 'campaigns',\n",
       " 'choose',\n",
       " 'vote',\n",
       " 'save',\n",
       " 'vote',\n",
       " 'evict',\n",
       " 'hou…']"
      ]
     },
     "execution_count": 25,
     "metadata": {},
     "output_type": "execute_result"
    }
   ],
   "source": [
    "# Remove stop words from each tweet list of words\n",
    "tweets_nsw = [[word for word in tweet_words if word not in ignored]\n",
    "              for tweet_words in words_in_tweet]\n",
    "\n",
    "tweets_nsw[0]"
   ]
  },
  {
   "cell_type": "markdown",
   "id": "95c5f87c",
   "metadata": {},
   "source": [
    "### Counting word frequencies\n",
    "\n",
    "We'll define a helper function to calculate word frequencies from our lists of words."
   ]
  },
  {
   "cell_type": "code",
   "execution_count": 27,
   "id": "b2c7c855",
   "metadata": {},
   "outputs": [],
   "source": [
    "def count_word_frequencies(words_in_tweet, top=15):\n",
    "    \"\"\"\n",
    "    Given a list of all words for every tweet, count\n",
    "    word frequencies across all tweets.\n",
    "    \n",
    "    By default, this returns the top 15 words, but you \n",
    "    can specify a different value for `top`.\n",
    "    \"\"\"\n",
    "    import itertools, collections\n",
    "\n",
    "    # List of all words across tweets\n",
    "    all_words = list(itertools.chain(*words_in_tweet))\n",
    "\n",
    "    # Create counter\n",
    "    counter = collections.Counter(all_words)\n",
    "    \n",
    "    return pd.DataFrame(counter.most_common(top),\n",
    "                        columns=['words', 'count'])"
   ]
  },
  {
   "cell_type": "code",
   "execution_count": 28,
   "id": "ddf990ca",
   "metadata": {},
   "outputs": [
    {
     "data": {
      "text/html": [
       "<div>\n",
       "<style scoped>\n",
       "    .dataframe tbody tr th:only-of-type {\n",
       "        vertical-align: middle;\n",
       "    }\n",
       "\n",
       "    .dataframe tbody tr th {\n",
       "        vertical-align: top;\n",
       "    }\n",
       "\n",
       "    .dataframe thead th {\n",
       "        text-align: right;\n",
       "    }\n",
       "</style>\n",
       "<table border=\"1\" class=\"dataframe\">\n",
       "  <thead>\n",
       "    <tr style=\"text-align: right;\">\n",
       "      <th></th>\n",
       "      <th>words</th>\n",
       "      <th>count</th>\n",
       "    </tr>\n",
       "  </thead>\n",
       "  <tbody>\n",
       "    <tr>\n",
       "      <th>0</th>\n",
       "      <td>vote</td>\n",
       "      <td>14464</td>\n",
       "    </tr>\n",
       "    <tr>\n",
       "      <th>1</th>\n",
       "      <td>evicted</td>\n",
       "      <td>12263</td>\n",
       "    </tr>\n",
       "    <tr>\n",
       "      <th>2</th>\n",
       "      <td>evict</td>\n",
       "      <td>12025</td>\n",
       "    </tr>\n",
       "    <tr>\n",
       "      <th>3</th>\n",
       "      <td>eviction</td>\n",
       "      <td>7124</td>\n",
       "    </tr>\n",
       "    <tr>\n",
       "      <th>4</th>\n",
       "      <td>na</td>\n",
       "      <td>5123</td>\n",
       "    </tr>\n",
       "  </tbody>\n",
       "</table>\n",
       "</div>"
      ],
      "text/plain": [
       "      words  count\n",
       "0      vote  14464\n",
       "1   evicted  12263\n",
       "2     evict  12025\n",
       "3  eviction   7124\n",
       "4        na   5123"
      ]
     },
     "execution_count": 28,
     "metadata": {},
     "output_type": "execute_result"
    }
   ],
   "source": [
    "counts_nsw = count_word_frequencies(tweets_nsw)\n",
    "counts_nsw.head()"
   ]
  },
  {
   "cell_type": "markdown",
   "id": "1530080f",
   "metadata": {},
   "source": [
    "### Plotting with our keyterms"
   ]
  },
  {
   "cell_type": "code",
   "execution_count": 29,
   "id": "08d3a340",
   "metadata": {},
   "outputs": [
    {
     "data": {
      "image/png": "[encoded data removed]",
      "text/plain": [
       "<Figure size 576x576 with 1 Axes>"
      ]
     },
     "metadata": {
      "needs_background": "light"
     },
     "output_type": "display_data"
    }
   ],
   "source": [
    "fig, ax = plt.subplots(figsize=(8, 8))\n",
    "\n",
    "sns.barplot(\n",
    "    y=\"words\",\n",
    "    x=\"count\",\n",
    "    data=counts_nsw.sort_values(by=\"count\", ascending=False),\n",
    "    ax=ax,\n",
    "    color=\"#e9c46aff\",\n",
    "    saturation=1.0,\n",
    ")\n",
    "\n",
    "ax.set_title(\"Common Words Found in Tweets (Without Stop Words)\", fontsize=16);"
   ]
  },
  {
   "cell_type": "markdown",
   "id": "e14a2d2f",
   "metadata": {},
   "source": [
    "### Plotting withOUT our keyterms"
   ]
  },
  {
   "cell_type": "code",
   "execution_count": 30,
   "id": "05b1aa3c",
   "metadata": {},
   "outputs": [],
   "source": [
    "search_terms = ['evictions', \"evicted\", \"evict\", \"eviction\"]\n",
    "tweets_final = [[w for w in word if w not in search_terms]\n",
    "                 for word in tweets_nsw]"
   ]
  },
  {
   "cell_type": "code",
   "execution_count": 31,
   "id": "241d1241",
   "metadata": {},
   "outputs": [],
   "source": [
    "# frequency counts\n",
    "counts_final = count_word_frequencies(tweets_final)"
   ]
  },
  {
   "cell_type": "code",
   "execution_count": 121,
   "id": "634438a3",
   "metadata": {
    "scrolled": true
   },
   "outputs": [
    {
     "data": {
      "image/png": "[encoded data removed]",
      "text/plain": [
       "<Figure size 576x576 with 1 Axes>"
      ]
     },
     "metadata": {
      "needs_background": "light"
     },
     "output_type": "display_data"
    }
   ],
   "source": [
    "fig, ax = plt.subplots(figsize=(8, 8))\n",
    "\n",
    "sns.barplot(\n",
    "    y=\"words\",\n",
    "    x=\"count\",\n",
    "    data=counts_final.sort_values(by=\"count\", ascending=False),\n",
    "    ax=ax,\n",
    "    color=\"#f4a261ff\",\n",
    "    saturation=1.0,\n",
    ")\n",
    "\n",
    "ax.set_title(\"Common Words Found in Tweets (Cleaned)\", fontsize=16)\n",
    "plt.savefig('commonwords.png')\n"
   ]
  },
  {
   "cell_type": "markdown",
   "id": "3b6eb53a",
   "metadata": {},
   "source": [
    "## Mapping Tweets"
   ]
  },
  {
   "cell_type": "code",
   "execution_count": 33,
   "id": "790571d2",
   "metadata": {},
   "outputs": [],
   "source": [
    "from geopy.geocoders import Nominatim"
   ]
  },
  {
   "cell_type": "code",
   "execution_count": 38,
   "id": "b7ec4918",
   "metadata": {},
   "outputs": [],
   "source": [
    "unique_places = geos[\"full_name\"].unique()"
   ]
  },
  {
   "cell_type": "code",
   "execution_count": 81,
   "id": "36b6c748",
   "metadata": {},
   "outputs": [],
   "source": [
    "uplaces = unique_places.tolist()"
   ]
  },
  {
   "cell_type": "code",
   "execution_count": 82,
   "id": "fe10e9be",
   "metadata": {},
   "outputs": [],
   "source": [
    "uplaces.remove('Central Region, Singapore')\n",
    "uplaces.remove(\"Perambur Purasavakam, India\")\n",
    "uplaces.remove(\"Anekal Bangaluru, India\")\n",
    "uplaces.remove(\"Rae Bareily, India\")"
   ]
  },
  {
   "cell_type": "code",
   "execution_count": 73,
   "id": "7c2bb81d",
   "metadata": {},
   "outputs": [
    {
     "data": {
      "text/plain": [
       "[nan,\n",
       " 'Austin, TX',\n",
       " 'Brooklyn, NY',\n",
       " 'Pennsylvania, USA',\n",
       " 'Guwahati, India',\n",
       " 'Glasgow, Scotland',\n",
       " 'Galway, Ireland',\n",
       " 'Pinellas Park, FL',\n",
       " 'North Region, Singapore',\n",
       " 'Calumet City, IL',\n",
       " 'Silver Spring, MD',\n",
       " 'Phoenix, AZ',\n",
       " 'Colorado, USA',\n",
       " 'Sparks, NV',\n",
       " 'Nevada, USA',\n",
       " 'Hayathnagar, India',\n",
       " 'Chirala, India',\n",
       " 'Tacloban City, Eastern Visayas',\n",
       " 'Dunwoody, GA',\n",
       " 'East Point, GA',\n",
       " 'Zanesville, OH',\n",
       " 'Mandaue City, Central Visayas',\n",
       " 'Davao City, Davao Region',\n",
       " 'Dasmarinas, Calabarzon',\n",
       " 'Pasay City, National Capital Region',\n",
       " 'Olongapo City, Central Luzon',\n",
       " 'Salfords, South East',\n",
       " 'Israel',\n",
       " 'Cagayan De Oro City, Northern Mindanao',\n",
       " 'Golborne, England',\n",
       " 'Rietberg, Deutschland',\n",
       " 'Rajendra Nagar, India',\n",
       " 'Worcester, England',\n",
       " 'Ajman, United Arab Emirates',\n",
       " 'Buffalo, NY',\n",
       " 'Hyderabad, India',\n",
       " 'New York, USA',\n",
       " 'Faversham, England',\n",
       " 'Arkansas, USA',\n",
       " 'Dallas, TX',\n",
       " 'Republic of the Philippines',\n",
       " 'Mandaluyong City, National Capital Region',\n",
       " 'Tanza, Calabarzon',\n",
       " 'Pittsburgh, PA',\n",
       " 'Catalina Foothills, AZ',\n",
       " 'Andhra Pradesh, India',\n",
       " 'Alabama, USA',\n",
       " 'Manhattan, NY',\n",
       " 'West Midlands, England',\n",
       " 'Hillsboro, OR',\n",
       " 'Queens, NY',\n",
       " 'Warsaw, Poland',\n",
       " 'Vellakoil, India',\n",
       " 'Victoria, British Columbia',\n",
       " 'North Auburn, CA',\n",
       " 'Sablayan, Mimaropa',\n",
       " 'Chennai, India',\n",
       " 'Guanacaste, Costa Rica',\n",
       " 'Meath, Ireland',\n",
       " 'Sholinganallur, India',\n",
       " 'Houston, TX',\n",
       " 'Gahanna, OH',\n",
       " 'Louth, Ireland',\n",
       " 'Changwon-si, Republic of Korea',\n",
       " 'Waterford, Ireland',\n",
       " 'Nashville, TN',\n",
       " 'Brighton, England',\n",
       " 'Hindupur, India',\n",
       " 'Westerville, OH',\n",
       " 'Arayat, Central Luzon',\n",
       " 'Kampala, Uganda',\n",
       " 'Cebu City, Central Visayas',\n",
       " 'Surigao City, Caraga',\n",
       " 'Legazpi City, Bicol Region',\n",
       " 'Lubao, Central Luzon',\n",
       " 'Padre Garcia, Calabarzon',\n",
       " 'Newark, NJ',\n",
       " 'Nairobi, Kenya',\n",
       " 'Ottawa, Ontario',\n",
       " 'Bacoor, Calabarzon',\n",
       " 'Slough, South East',\n",
       " 'Hojai, India',\n",
       " 'San Francisco, CA',\n",
       " 'Narragansett, RI',\n",
       " 'Kajang, Selangor',\n",
       " 'Lewisville, TX',\n",
       " 'Weston-super-Mare, England',\n",
       " 'Cainta, Calabarzon',\n",
       " 'Tamil Nadu, India',\n",
       " 'Sriperumbudur, India',\n",
       " 'Tampa, FL',\n",
       " 'Raleigh Hills, OR',\n",
       " 'Kidapawan City, Soccsksargen',\n",
       " 'Westminster, CA',\n",
       " 'Yorkshire and The Humber, England',\n",
       " \"Hasbro Children's Hospital\",\n",
       " 'Kitchener, Ontario',\n",
       " 'Manchester, England',\n",
       " 'Michigan, USA',\n",
       " 'Buechel, KY',\n",
       " 'Pembroke, Ontario',\n",
       " 'Higher Folds, England',\n",
       " 'Plattsburgh, NY',\n",
       " 'Coimbatore, India',\n",
       " 'Los Angeles, CA',\n",
       " 'Ashland, OR',\n",
       " 'Drigh Road, Pakistan',\n",
       " 'Longford, Ireland',\n",
       " 'Bradford, England',\n",
       " 'Princeton, NJ',\n",
       " 'Rhode Island, USA',\n",
       " 'Iloilo City, Western Visayas',\n",
       " 'Burnham, IL',\n",
       " 'Leeds, England',\n",
       " 'India',\n",
       " 'Lilo-An, Central Visayas',\n",
       " 'Wakefield, England',\n",
       " 'Minto, Ontario',\n",
       " 'Currimao, Ilocos Region',\n",
       " 'Kolkata, India',\n",
       " 'Manchester, CT',\n",
       " 'Colwood, British Columbia',\n",
       " 'Marikina City, National Capital Region',\n",
       " 'Kagiso, South Africa',\n",
       " 'Maine, USA',\n",
       " 'Montréal, Québec',\n",
       " 'Reno, NV',\n",
       " 'Tucson, AZ',\n",
       " 'Billings, MT',\n",
       " 'Pueblo Viejo, Puerto Rico',\n",
       " 'Winchester, England',\n",
       " 'Tennessee, USA',\n",
       " 'Columbus, OH',\n",
       " 'Richmond, VA',\n",
       " 'Lakemoor, IL',\n",
       " 'Toronto, Ontario',\n",
       " 'Dumfries, Scotland',\n",
       " 'Ikeja, Nigeria',\n",
       " 'Haveli, India',\n",
       " 'Anekal Bangaluru, India',\n",
       " 'Calgary, Alberta',\n",
       " 'Johannesburg, South Africa',\n",
       " 'Denver, CO',\n",
       " 'West Molesey, South East',\n",
       " 'Rae Bareily, India',\n",
       " 'Silchar, India',\n",
       " 'President Roxas, Western Visayas',\n",
       " 'San Carlos City, Western Visayas',\n",
       " 'Camberwell, London',\n",
       " 'Kaunas, Lietuva',\n",
       " 'Dubai, United Arab Emirates',\n",
       " 'Philadelphia, PA',\n",
       " 'Abergavenny, Wales',\n",
       " 'Bridge of Don, Scotland',\n",
       " 'Woking, South East',\n",
       " 'Impasug-Ong, Northern Mindanao',\n",
       " 'Amloh, India',\n",
       " 'Port Macquarie, New South Wales',\n",
       " 'Oshogbo, Nigeria',\n",
       " 'Cyprus',\n",
       " 'Washington, DC']"
      ]
     },
     "execution_count": 73,
     "metadata": {},
     "output_type": "execute_result"
    }
   ],
   "source": [
    "uplaces"
   ]
  },
  {
   "cell_type": "code",
   "execution_count": null,
   "id": "dbb7a084",
   "metadata": {},
   "outputs": [],
   "source": [
    "needplaces = [\"Central Region, Singapore\"]"
   ]
  },
  {
   "cell_type": "code",
   "execution_count": 79,
   "id": "d828d9ec",
   "metadata": {},
   "outputs": [
    {
     "ename": "AttributeError",
     "evalue": "'NoneType' object has no attribute 'latitude'",
     "output_type": "error",
     "traceback": [
      "\u001b[1;31m---------------------------------------------------------------------------\u001b[0m",
      "\u001b[1;31mAttributeError\u001b[0m                            Traceback (most recent call last)",
      "\u001b[1;32m~\\AppData\\Local\\Temp/ipykernel_27320/4276591432.py\u001b[0m in \u001b[0;36m<module>\u001b[1;34m\u001b[0m\n\u001b[0;32m      1\u001b[0m \u001b[0mgeolocator\u001b[0m \u001b[1;33m=\u001b[0m \u001b[0mNominatim\u001b[0m\u001b[1;33m(\u001b[0m\u001b[0muser_agent\u001b[0m\u001b[1;33m=\u001b[0m\u001b[1;34m\"577a81d8-9516-4fb7-b388-eea95f6d4cbe\"\u001b[0m\u001b[1;33m)\u001b[0m\u001b[1;33m\u001b[0m\u001b[1;33m\u001b[0m\u001b[0m\n\u001b[0;32m      2\u001b[0m \u001b[0mlocation\u001b[0m \u001b[1;33m=\u001b[0m \u001b[0mgeolocator\u001b[0m\u001b[1;33m.\u001b[0m\u001b[0mgeocode\u001b[0m\u001b[1;33m(\u001b[0m\u001b[1;34m\"Rae Bareily, India\"\u001b[0m\u001b[1;33m)\u001b[0m\u001b[1;33m\u001b[0m\u001b[1;33m\u001b[0m\u001b[0m\n\u001b[1;32m----> 3\u001b[1;33m \u001b[0mprint\u001b[0m\u001b[1;33m(\u001b[0m\u001b[1;33m(\u001b[0m\u001b[0mlocation\u001b[0m\u001b[1;33m.\u001b[0m\u001b[0mlatitude\u001b[0m\u001b[1;33m,\u001b[0m \u001b[0mlocation\u001b[0m\u001b[1;33m.\u001b[0m\u001b[0mlongitude\u001b[0m\u001b[1;33m)\u001b[0m\u001b[1;33m)\u001b[0m\u001b[1;33m\u001b[0m\u001b[1;33m\u001b[0m\u001b[0m\n\u001b[0m",
      "\u001b[1;31mAttributeError\u001b[0m: 'NoneType' object has no attribute 'latitude'"
     ]
    }
   ],
   "source": [
    "geolocator = Nominatim(user_agent=\"577a81d8-9516-4fb7-b388-eea95f6d4cbe\")\n",
    "location = geolocator.geocode(\"Rae Bareily, India\")\n",
    "print((location.latitude, location.longitude))"
   ]
  },
  {
   "cell_type": "code",
   "execution_count": 83,
   "id": "c0cc5d7b",
   "metadata": {},
   "outputs": [
    {
     "name": "stdout",
     "output_type": "stream",
     "text": [
      "nan\n",
      "Austin, TX\n",
      "Brooklyn, NY\n",
      "Pennsylvania, USA\n",
      "Guwahati, India\n",
      "Glasgow, Scotland\n",
      "Galway, Ireland\n",
      "Pinellas Park, FL\n",
      "North Region, Singapore\n",
      "Calumet City, IL\n",
      "Silver Spring, MD\n",
      "Phoenix, AZ\n",
      "Colorado, USA\n",
      "Sparks, NV\n",
      "Nevada, USA\n",
      "Hayathnagar, India\n",
      "Chirala, India\n",
      "Tacloban City, Eastern Visayas\n",
      "Dunwoody, GA\n",
      "East Point, GA\n",
      "Zanesville, OH\n",
      "Mandaue City, Central Visayas\n",
      "Davao City, Davao Region\n",
      "Dasmarinas, Calabarzon\n",
      "Pasay City, National Capital Region\n",
      "Olongapo City, Central Luzon\n",
      "Salfords, South East\n",
      "Israel\n",
      "Cagayan De Oro City, Northern Mindanao\n",
      "Golborne, England\n",
      "Rietberg, Deutschland\n",
      "Rajendra Nagar, India\n",
      "Worcester, England\n",
      "Ajman, United Arab Emirates\n",
      "Buffalo, NY\n",
      "Hyderabad, India\n",
      "New York, USA\n",
      "Faversham, England\n",
      "Arkansas, USA\n",
      "Dallas, TX\n",
      "Republic of the Philippines\n",
      "Mandaluyong City, National Capital Region\n",
      "Tanza, Calabarzon\n",
      "Pittsburgh, PA\n",
      "Catalina Foothills, AZ\n",
      "Andhra Pradesh, India\n",
      "Alabama, USA\n",
      "Manhattan, NY\n",
      "West Midlands, England\n",
      "Hillsboro, OR\n",
      "Queens, NY\n",
      "Warsaw, Poland\n",
      "Vellakoil, India\n",
      "Victoria, British Columbia\n",
      "North Auburn, CA\n",
      "Sablayan, Mimaropa\n",
      "Chennai, India\n",
      "Guanacaste, Costa Rica\n",
      "Meath, Ireland\n",
      "Sholinganallur, India\n",
      "Houston, TX\n",
      "Gahanna, OH\n",
      "Louth, Ireland\n",
      "Changwon-si, Republic of Korea\n",
      "Waterford, Ireland\n",
      "Nashville, TN\n",
      "Brighton, England\n",
      "Hindupur, India\n",
      "Westerville, OH\n",
      "Arayat, Central Luzon\n",
      "Kampala, Uganda\n",
      "Cebu City, Central Visayas\n",
      "Surigao City, Caraga\n",
      "Legazpi City, Bicol Region\n",
      "Lubao, Central Luzon\n",
      "Padre Garcia, Calabarzon\n",
      "Newark, NJ\n",
      "Nairobi, Kenya\n",
      "Ottawa, Ontario\n",
      "Bacoor, Calabarzon\n",
      "Slough, South East\n",
      "Hojai, India\n",
      "San Francisco, CA\n",
      "Narragansett, RI\n",
      "Kajang, Selangor\n",
      "Lewisville, TX\n",
      "Weston-super-Mare, England\n",
      "Cainta, Calabarzon\n",
      "Tamil Nadu, India\n",
      "Sriperumbudur, India\n",
      "Tampa, FL\n",
      "Raleigh Hills, OR\n",
      "Kidapawan City, Soccsksargen\n",
      "Westminster, CA\n",
      "Yorkshire and The Humber, England\n",
      "Hasbro Children's Hospital\n",
      "Kitchener, Ontario\n",
      "Manchester, England\n",
      "Michigan, USA\n",
      "Buechel, KY\n",
      "Pembroke, Ontario\n",
      "Higher Folds, England\n",
      "Plattsburgh, NY\n",
      "Coimbatore, India\n",
      "Los Angeles, CA\n",
      "Ashland, OR\n",
      "Drigh Road, Pakistan\n",
      "Longford, Ireland\n",
      "Bradford, England\n",
      "Princeton, NJ\n",
      "Rhode Island, USA\n",
      "Iloilo City, Western Visayas\n",
      "Burnham, IL\n",
      "Leeds, England\n",
      "India\n",
      "Lilo-An, Central Visayas\n",
      "Wakefield, England\n",
      "Minto, Ontario\n",
      "Currimao, Ilocos Region\n",
      "Kolkata, India\n",
      "Manchester, CT\n",
      "Colwood, British Columbia\n",
      "Marikina City, National Capital Region\n",
      "Kagiso, South Africa\n",
      "Maine, USA\n",
      "Montréal, Québec\n",
      "Reno, NV\n",
      "Tucson, AZ\n",
      "Billings, MT\n",
      "Pueblo Viejo, Puerto Rico\n",
      "Winchester, England\n",
      "Tennessee, USA\n",
      "Columbus, OH\n",
      "Richmond, VA\n",
      "Lakemoor, IL\n",
      "Toronto, Ontario\n",
      "Dumfries, Scotland\n",
      "Ikeja, Nigeria\n",
      "Haveli, India\n",
      "Calgary, Alberta\n",
      "Johannesburg, South Africa\n",
      "Denver, CO\n",
      "West Molesey, South East\n",
      "Silchar, India\n",
      "President Roxas, Western Visayas\n",
      "San Carlos City, Western Visayas\n",
      "Camberwell, London\n",
      "Kaunas, Lietuva\n",
      "Dubai, United Arab Emirates\n",
      "Philadelphia, PA\n",
      "Abergavenny, Wales\n",
      "Bridge of Don, Scotland\n",
      "Woking, South East\n",
      "Impasug-Ong, Northern Mindanao\n",
      "Amloh, India\n",
      "Port Macquarie, New South Wales\n",
      "Oshogbo, Nigeria\n",
      "Cyprus\n",
      "Washington, DC\n",
      "done\n"
     ]
    }
   ],
   "source": [
    "locations = []\n",
    "lats = []\n",
    "lngs = []\n",
    "for i in uplaces:\n",
    "    print(i)\n",
    "    locations.append(i)\n",
    "    geolocator = Nominatim(user_agent=\"577a81d8-9516-4fb7-b388-eea95f6d4cbe\")\n",
    "    location = geolocator.geocode(i)\n",
    "    lat = location.latitude\n",
    "    lng = location.longitude\n",
    "    lats.append(lat)\n",
    "    lngs.append(lng)\n",
    "print(\"done\")"
   ]
  },
  {
   "cell_type": "code",
   "execution_count": 84,
   "id": "f818c752",
   "metadata": {},
   "outputs": [],
   "source": [
    "geos_geocoded = pd.DataFrame(list(zip(locations,lats, lngs)),columns =[\"locations\",\"lat\", \"lng\"])"
   ]
  },
  {
   "cell_type": "code",
   "execution_count": 85,
   "id": "67d73a20",
   "metadata": {},
   "outputs": [
    {
     "data": {
      "text/html": [
       "<div>\n",
       "<style scoped>\n",
       "    .dataframe tbody tr th:only-of-type {\n",
       "        vertical-align: middle;\n",
       "    }\n",
       "\n",
       "    .dataframe tbody tr th {\n",
       "        vertical-align: top;\n",
       "    }\n",
       "\n",
       "    .dataframe thead th {\n",
       "        text-align: right;\n",
       "    }\n",
       "</style>\n",
       "<table border=\"1\" class=\"dataframe\">\n",
       "  <thead>\n",
       "    <tr style=\"text-align: right;\">\n",
       "      <th></th>\n",
       "      <th>locations</th>\n",
       "      <th>lat</th>\n",
       "      <th>lng</th>\n",
       "    </tr>\n",
       "  </thead>\n",
       "  <tbody>\n",
       "    <tr>\n",
       "      <th>0</th>\n",
       "      <td>NaN</td>\n",
       "      <td>46.314475</td>\n",
       "      <td>11.048029</td>\n",
       "    </tr>\n",
       "    <tr>\n",
       "      <th>1</th>\n",
       "      <td>Austin, TX</td>\n",
       "      <td>30.271129</td>\n",
       "      <td>-97.743700</td>\n",
       "    </tr>\n",
       "    <tr>\n",
       "      <th>2</th>\n",
       "      <td>Brooklyn, NY</td>\n",
       "      <td>40.652601</td>\n",
       "      <td>-73.949721</td>\n",
       "    </tr>\n",
       "    <tr>\n",
       "      <th>3</th>\n",
       "      <td>Pennsylvania, USA</td>\n",
       "      <td>40.969989</td>\n",
       "      <td>-77.727883</td>\n",
       "    </tr>\n",
       "    <tr>\n",
       "      <th>4</th>\n",
       "      <td>Guwahati, India</td>\n",
       "      <td>26.180598</td>\n",
       "      <td>91.753943</td>\n",
       "    </tr>\n",
       "  </tbody>\n",
       "</table>\n",
       "</div>"
      ],
      "text/plain": [
       "           locations        lat        lng\n",
       "0                NaN  46.314475  11.048029\n",
       "1         Austin, TX  30.271129 -97.743700\n",
       "2       Brooklyn, NY  40.652601 -73.949721\n",
       "3  Pennsylvania, USA  40.969989 -77.727883\n",
       "4    Guwahati, India  26.180598  91.753943"
      ]
     },
     "execution_count": 85,
     "metadata": {},
     "output_type": "execute_result"
    }
   ],
   "source": [
    "geos_geocoded.head()"
   ]
  },
  {
   "cell_type": "code",
   "execution_count": 86,
   "id": "6d454242",
   "metadata": {},
   "outputs": [],
   "source": [
    "geos_geocoded.to_csv('geos_geocoded.csv', index=False)"
   ]
  },
  {
   "cell_type": "code",
   "execution_count": 87,
   "id": "d498c015",
   "metadata": {},
   "outputs": [],
   "source": [
    "geoscoded = pd.read_csv(r'.\\data\\geos_geocoded.csv')"
   ]
  },
  {
   "cell_type": "code",
   "execution_count": 88,
   "id": "48dd6d74",
   "metadata": {},
   "outputs": [
    {
     "data": {
      "text/html": [
       "<div>\n",
       "<style scoped>\n",
       "    .dataframe tbody tr th:only-of-type {\n",
       "        vertical-align: middle;\n",
       "    }\n",
       "\n",
       "    .dataframe tbody tr th {\n",
       "        vertical-align: top;\n",
       "    }\n",
       "\n",
       "    .dataframe thead th {\n",
       "        text-align: right;\n",
       "    }\n",
       "</style>\n",
       "<table border=\"1\" class=\"dataframe\">\n",
       "  <thead>\n",
       "    <tr style=\"text-align: right;\">\n",
       "      <th></th>\n",
       "      <th>locations</th>\n",
       "      <th>lat</th>\n",
       "      <th>lng</th>\n",
       "    </tr>\n",
       "  </thead>\n",
       "  <tbody>\n",
       "    <tr>\n",
       "      <th>0</th>\n",
       "      <td>NaN</td>\n",
       "      <td>46.314475</td>\n",
       "      <td>11.048029</td>\n",
       "    </tr>\n",
       "    <tr>\n",
       "      <th>1</th>\n",
       "      <td>Austin, TX</td>\n",
       "      <td>30.271129</td>\n",
       "      <td>-97.743700</td>\n",
       "    </tr>\n",
       "    <tr>\n",
       "      <th>2</th>\n",
       "      <td>Brooklyn, NY</td>\n",
       "      <td>40.652601</td>\n",
       "      <td>-73.949721</td>\n",
       "    </tr>\n",
       "    <tr>\n",
       "      <th>3</th>\n",
       "      <td>Pennsylvania, USA</td>\n",
       "      <td>40.969989</td>\n",
       "      <td>-77.727883</td>\n",
       "    </tr>\n",
       "    <tr>\n",
       "      <th>4</th>\n",
       "      <td>Guwahati, India</td>\n",
       "      <td>26.180598</td>\n",
       "      <td>91.753943</td>\n",
       "    </tr>\n",
       "  </tbody>\n",
       "</table>\n",
       "</div>"
      ],
      "text/plain": [
       "           locations        lat        lng\n",
       "0                NaN  46.314475  11.048029\n",
       "1         Austin, TX  30.271129 -97.743700\n",
       "2       Brooklyn, NY  40.652601 -73.949721\n",
       "3  Pennsylvania, USA  40.969989 -77.727883\n",
       "4    Guwahati, India  26.180598  91.753943"
      ]
     },
     "execution_count": 88,
     "metadata": {},
     "output_type": "execute_result"
    }
   ],
   "source": [
    "geoscoded.head()"
   ]
  },
  {
   "cell_type": "code",
   "execution_count": 89,
   "id": "b28727f0",
   "metadata": {},
   "outputs": [],
   "source": [
    "geoscoded[\"geometry\"] = gpd.points_from_xy(geoscoded['lng'], geoscoded['lat'])"
   ]
  },
  {
   "cell_type": "code",
   "execution_count": 90,
   "id": "f68b8175",
   "metadata": {},
   "outputs": [],
   "source": [
    "geoscoded_gdf = gpd.GeoDataFrame(data= geoscoded, geometry=\"geometry\", crs=\"EPSG:4326\")"
   ]
  },
  {
   "cell_type": "code",
   "execution_count": 91,
   "id": "0b5010d6",
   "metadata": {},
   "outputs": [
    {
     "data": {
      "text/html": [
       "<div>\n",
       "<style scoped>\n",
       "    .dataframe tbody tr th:only-of-type {\n",
       "        vertical-align: middle;\n",
       "    }\n",
       "\n",
       "    .dataframe tbody tr th {\n",
       "        vertical-align: top;\n",
       "    }\n",
       "\n",
       "    .dataframe thead th {\n",
       "        text-align: right;\n",
       "    }\n",
       "</style>\n",
       "<table border=\"1\" class=\"dataframe\">\n",
       "  <thead>\n",
       "    <tr style=\"text-align: right;\">\n",
       "      <th></th>\n",
       "      <th>locations</th>\n",
       "      <th>lat</th>\n",
       "      <th>lng</th>\n",
       "      <th>geometry</th>\n",
       "    </tr>\n",
       "  </thead>\n",
       "  <tbody>\n",
       "    <tr>\n",
       "      <th>0</th>\n",
       "      <td>NaN</td>\n",
       "      <td>46.314475</td>\n",
       "      <td>11.048029</td>\n",
       "      <td>POINT (11.04803 46.31448)</td>\n",
       "    </tr>\n",
       "    <tr>\n",
       "      <th>1</th>\n",
       "      <td>Austin, TX</td>\n",
       "      <td>30.271129</td>\n",
       "      <td>-97.743700</td>\n",
       "      <td>POINT (-97.74370 30.27113)</td>\n",
       "    </tr>\n",
       "    <tr>\n",
       "      <th>2</th>\n",
       "      <td>Brooklyn, NY</td>\n",
       "      <td>40.652601</td>\n",
       "      <td>-73.949721</td>\n",
       "      <td>POINT (-73.94972 40.65260)</td>\n",
       "    </tr>\n",
       "    <tr>\n",
       "      <th>3</th>\n",
       "      <td>Pennsylvania, USA</td>\n",
       "      <td>40.969989</td>\n",
       "      <td>-77.727883</td>\n",
       "      <td>POINT (-77.72788 40.96999)</td>\n",
       "    </tr>\n",
       "    <tr>\n",
       "      <th>4</th>\n",
       "      <td>Guwahati, India</td>\n",
       "      <td>26.180598</td>\n",
       "      <td>91.753943</td>\n",
       "      <td>POINT (91.75394 26.18060)</td>\n",
       "    </tr>\n",
       "  </tbody>\n",
       "</table>\n",
       "</div>"
      ],
      "text/plain": [
       "           locations        lat        lng                    geometry\n",
       "0                NaN  46.314475  11.048029   POINT (11.04803 46.31448)\n",
       "1         Austin, TX  30.271129 -97.743700  POINT (-97.74370 30.27113)\n",
       "2       Brooklyn, NY  40.652601 -73.949721  POINT (-73.94972 40.65260)\n",
       "3  Pennsylvania, USA  40.969989 -77.727883  POINT (-77.72788 40.96999)\n",
       "4    Guwahati, India  26.180598  91.753943   POINT (91.75394 26.18060)"
      ]
     },
     "execution_count": 91,
     "metadata": {},
     "output_type": "execute_result"
    }
   ],
   "source": [
    "geoscoded_gdf.head()"
   ]
  },
  {
   "cell_type": "code",
   "execution_count": 97,
   "id": "8b965ca3",
   "metadata": {},
   "outputs": [],
   "source": [
    "world = gpd.read_file(gpd.datasets.get_path('naturalearth_lowres'))"
   ]
  },
  {
   "cell_type": "code",
   "execution_count": 98,
   "id": "25405eb5",
   "metadata": {},
   "outputs": [
    {
     "data": {
      "image/png": "[encoded data removed]",
      "text/plain": [
       "<Figure size 432x288 with 1 Axes>"
      ]
     },
     "metadata": {
      "needs_background": "light"
     },
     "output_type": "display_data"
    }
   ],
   "source": [
    "base = world.plot(color='white', edgecolor='black')"
   ]
  },
  {
   "cell_type": "code",
   "execution_count": 102,
   "id": "1d8326c3",
   "metadata": {},
   "outputs": [
    {
     "data": {
      "text/plain": [
       "<Figure size 432x288 with 0 Axes>"
      ]
     },
     "metadata": {},
     "output_type": "display_data"
    }
   ],
   "source": [
    "geoscoded_gdf.plot(ax = base, marker='*', color='green', markersize=5);"
   ]
  },
  {
   "cell_type": "code",
   "execution_count": 104,
   "id": "e8bdaaac",
   "metadata": {},
   "outputs": [],
   "source": [
    "geogdf = geoscoded_gdf.to_crs(world.crs)\n",
    " \"#f4a261ff\", \"#e76f51ff\""
   ]
  },
  {
   "cell_type": "code",
   "execution_count": 112,
   "id": "6af41bf0",
   "metadata": {},
   "outputs": [],
   "source": [
    "import contextily as cx"
   ]
  },
  {
   "cell_type": "code",
   "execution_count": 125,
   "id": "9a476df7",
   "metadata": {
    "scrolled": true
   },
   "outputs": [
    {
     "data": {
      "image/png": "[encoded data removed]",
      "text/plain": [
       "<Figure size 1440x720 with 1 Axes>"
      ]
     },
     "metadata": {
      "needs_background": "light"
     },
     "output_type": "display_data"
    }
   ],
   "source": [
    "fig, ax = plt.subplots(figsize=(20, 10))\n",
    "\n",
    "# set aspect to equal. This is done automatically\n",
    "# when using *geopandas* plot on it's own, but not when\n",
    "# working with pyplot directly.\n",
    "\n",
    "#ax.set_aspect('equal')\n",
    "\n",
    "#world.plot(ax=ax, color='white', edgecolor='black')\n",
    "\n",
    "geoscoded_gdf.plot(ax = ax, marker='*', color=\"#e76f51ff\", markersize=7)\n",
    "\n",
    "cx.add_basemap(ax, source=cx.providers.CartoDB.DarkMatter, crs=geoscoded_gdf.crs)\n",
    "ax.set_axis_off()\n",
    "ax.set(title=\"Location of Recent Tweets With Search Term Evictions\")\n",
    "\n",
    "plt.savefig('tweetsWorld.png')"
   ]
  },
  {
   "cell_type": "code",
   "execution_count": 126,
   "id": "09feb4f0",
   "metadata": {},
   "outputs": [
    {
     "ename": "ModuleNotFoundError",
     "evalue": "No module named 'wordcloud'",
     "output_type": "error",
     "traceback": [
      "\u001b[1;31m---------------------------------------------------------------------------\u001b[0m",
      "\u001b[1;31mModuleNotFoundError\u001b[0m                       Traceback (most recent call last)",
      "\u001b[1;32m~\\AppData\\Local\\Temp/ipykernel_27320/492858602.py\u001b[0m in \u001b[0;36m<module>\u001b[1;34m\u001b[0m\n\u001b[1;32m----> 1\u001b[1;33m \u001b[1;32mimport\u001b[0m \u001b[0mwordcloud\u001b[0m\u001b[1;33m\u001b[0m\u001b[1;33m\u001b[0m\u001b[0m\n\u001b[0m",
      "\u001b[1;31mModuleNotFoundError\u001b[0m: No module named 'wordcloud'"
     ]
    }
   ],
   "source": [
    "import wordcloud"
   ]
  }
 ],
 "metadata": {
  "kernelspec": {
   "display_name": "Python 3 (ipykernel)",
   "language": "python",
   "name": "python3"
  },
  "language_info": {
   "codemirror_mode": {
    "name": "ipython",
    "version": 3
   },
   "file_extension": ".py",
   "mimetype": "text/x-python",
   "name": "python",
   "nbconvert_exporter": "python",
   "pygments_lexer": "ipython3",
   "version": "3.8.12"
  }
 },
 "nbformat": 4,
 "nbformat_minor": 5
}
